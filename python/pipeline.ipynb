{
  "cells": [
    {
      "cell_type": "markdown",
      "metadata": {
        "id": "lNHmdtZYfGM8"
      },
      "source": [
        "### Center of Neuroengineering and Therapeutics\n",
        "# IEEG Pre-processing Pipeline\n",
        "This notebook provides a recommended usage pipeline for the iEEG pre-processing toolkit."
      ]
    },
    {
      "cell_type": "markdown",
      "metadata": {
        "id": "qK-46nFlehsT"
      },
      "source": [
        "## Imports\n",
        "\n"
      ]
    },
    {
      "cell_type": "code",
      "execution_count": 8,
      "metadata": {},
      "outputs": [],
      "source": [
        "import pandas as pd\n",
        "import numpy as np\n",
        "import tools\n",
        "import os,sys\n",
        "from ieeg.auth import Session\n",
        "\n",
        "path = os.getcwd()\n",
        "sys.path.append(path)"
      ]
    },
    {
      "cell_type": "markdown",
      "metadata": {
        "id": "QUMRt9bLfwbc"
      },
      "source": [
        "## Pipeline implementation"
      ]
    },
    {
      "cell_type": "code",
      "execution_count": 9,
      "metadata": {},
      "outputs": [],
      "source": [
        "#@title Login Configuration\n",
        "#@markdown Set up login account for obtaining data\n",
        "with open(os.path.join(path,\"config.json\"), 'rb') as f:\n",
        "    config = pd.read_json(f, typ='series')"
      ]
    },
    {
      "cell_type": "code",
      "execution_count": 12,
      "metadata": {
        "cellView": "form",
        "id": "vke3Ydd_R_vM"
      },
      "outputs": [],
      "source": [
        "#@title Get Data via Input\n",
        "#@markdown Specify the filename, start/stop time, electrodes, etc.\n",
        "iEEG_filename = \"HUP172_phaseII\"#@param {type:\"string\"}\n",
        "start_time = 402580 #@param {type:\"number\"}\n",
        "stop_time = 402600 #@param {type:\"number\"}\n",
        "electrodes = \"LE10, LE11, LH01, LH02, LH03, LH04\" #@param {type:\"string\"}\n",
        "electrodes = electrodes.split(', ')"
      ]
    },
    {
      "cell_type": "code",
      "execution_count": null,
      "metadata": {},
      "outputs": [],
      "source": [
        "#@title Get Data via File\n",
        "#@markdown Specify the path to file containing data info (.csv/.tsv)\n",
        "#@markdown Format Filename | Start time | Stop time | Electrodes\n",
        "pd.read_csv"
      ]
    },
    {
      "cell_type": "code",
      "execution_count": null,
      "metadata": {
        "cellView": "form",
        "colab": {
          "base_uri": "https://localhost:8080/"
        },
        "id": "Q_Kbgo22hL2t",
        "outputId": "267885df-1634-4ee5-f43a-b89c8e1ffe10"
      },
      "outputs": [
        {
          "name": "stdout",
          "output_type": "stream",
          "text": [
            "Index(['EKG1', 'EKG2', 'LB01', 'LB02', 'LB03', 'LB04', 'LB05', 'LB06', 'LB07',\n",
            "       'LB08',\n",
            "       ...\n",
            "       'RE01', 'RE02', 'RE03', 'RE04', 'RE05', 'RE06', 'RE07', 'RE08', 'RE09',\n",
            "       'RE10'],\n",
            "      dtype='object', length=136)\n"
          ]
        }
      ],
      "source": [
        "#@title Import data\n",
        "data, fs = tools.get_iEEG_data(config.usr, config.pwd, iEEG_filename, start_time, stop_time)\n",
        "\n",
        "# %%\n",
        "print(data.columns)\n"
      ]
    },
    {
      "cell_type": "code",
      "execution_count": null,
      "metadata": {
        "cellView": "form",
        "colab": {
          "base_uri": "https://localhost:8080/"
        },
        "id": "L3Gbht0WhUaG",
        "outputId": "8c2e93f4-30d2-4188-aaf6-c2e39a9fbb64"
      },
      "outputs": [
        {
          "name": "stdout",
          "output_type": "stream",
          "text": [
            "[['EKG1' 'EKG01']\n",
            " ['EKG2' 'EKG02']]\n"
          ]
        }
      ],
      "source": [
        "#@title Clean channel labels\n",
        "clean_channels = tools.clean_labels(data.columns)\n",
        "\n",
        "# show cleaned and original labels\n",
        "if np.all(clean_channels==data.columns):\n",
        "    print('No channels changed.')\n",
        "else:\n",
        "    comp_chan = np.vstack([data.columns,np.array(clean_channels)]).T\n",
        "    print(comp_chan[np.where(clean_channels!=data.columns)[0],:])"
      ]
    },
    {
      "cell_type": "code",
      "execution_count": null,
      "metadata": {
        "cellView": "form",
        "colab": {
          "base_uri": "https://localhost:8080/"
        },
        "id": "AAlQbWgrhbfb",
        "outputId": "145bd4fb-fba0-471d-c949-dbf59da7b825"
      },
      "outputs": [
        {
          "name": "stdout",
          "output_type": "stream",
          "text": [
            "['EKG01' 'EKG02']\n"
          ]
        }
      ],
      "source": [
        "#@title Non-ieeg channels\n",
        "#Find and return a boolean mask for non ieeg channels\n",
        "non_ieeg_channels = tools.find_non_ieeg(clean_channels)\n",
        "print(np.array(clean_channels)[non_ieeg_channels])"
      ]
    },
    {
      "cell_type": "code",
      "execution_count": null,
      "metadata": {
        "cellView": "form",
        "colab": {
          "base_uri": "https://localhost:8080/"
        },
        "id": "Vljh1vm6ht8u",
        "outputId": "186e2df8-4766-4c55-d320-b21e0c7ab9bf"
      },
      "outputs": [
        {
          "name": "stdout",
          "output_type": "stream",
          "text": [
            "Index(['LB01', 'LB02', 'LB03', 'LB04', 'LB05', 'LB06', 'LB07', 'LB08', 'LB09',\n",
            "       'LB10',\n",
            "       ...\n",
            "       'RE01', 'RE02', 'RE03', 'RE04', 'RE05', 'RE06', 'RE07', 'RE08', 'RE09',\n",
            "       'RE10'],\n",
            "      dtype='object', length=134)\n"
          ]
        }
      ],
      "source": [
        "#@title Clean data\n",
        "data.columns = clean_channels\n",
        "data = data.iloc[:, ~non_ieeg_channels]\n",
        "\n",
        "#%%\n",
        "print(data.columns)"
      ]
    },
    {
      "cell_type": "code",
      "execution_count": null,
      "metadata": {
        "id": "1OtyivOZiQjr"
      },
      "outputs": [],
      "source": [
        "#@title Plot data\n",
        "t_sec = np.linspace(start_time, stop_time, num=data.shape[0])\n",
        "fig, ax = tools.plot_iEEG_data(data, t_sec)\n",
        "fig.set_size_inches(18.5, 10.5)\n",
        "ax.set_title(iEEG_filename)\n",
        "fig.show()\n"
      ]
    }
  ],
  "metadata": {
    "colab": {
      "provenance": []
    },
    "kernelspec": {
      "display_name": "Python 3",
      "name": "python3"
    },
    "language_info": {
      "codemirror_mode": {
        "name": "ipython",
        "version": 3
      },
      "file_extension": ".py",
      "mimetype": "text/x-python",
      "name": "python",
      "nbconvert_exporter": "python",
      "pygments_lexer": "ipython3",
      "version": "3.10.5"
    }
  },
  "nbformat": 4,
  "nbformat_minor": 0
}
