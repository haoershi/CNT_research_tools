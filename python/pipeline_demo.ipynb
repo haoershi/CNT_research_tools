{
  "nbformat": 4,
  "nbformat_minor": 0,
  "metadata": {
    "colab": {
      "provenance": [],
      "collapsed_sections": [
        "qK-46nFlehsT"
      ]
    },
    "kernelspec": {
      "name": "python3",
      "display_name": "Python 3"
    },
    "language_info": {
      "name": "python"
    }
  },
  "cells": [
    {
      "cell_type": "markdown",
      "source": [
        "### Center of Neuroengineering and Therapeutics\n",
        "# IEEG Pre-processing Pipeline\n",
        "This notebook provides a recommended usage pipeline for the iEEG pre-processing toolkit."
      ],
      "metadata": {
        "id": "lNHmdtZYfGM8"
      }
    },
    {
      "cell_type": "markdown",
      "source": [
        "## Imports\n",
        "\n"
      ],
      "metadata": {
        "id": "qK-46nFlehsT"
      }
    },
    {
      "cell_type": "code",
      "source": [
        "# set search path\n",
        "import os,sys\n",
        "import pandas as pd\n",
        "import numpy as np\n",
        "\n",
        "!pip install git+https://github.com/ieeg-portal/ieegpy.git # Install ieegpy toolbox directly from github\n",
        "from ieeg.auth import Session\n",
        "\n",
        "!pip install git+https://github.com/haoershi/CNT_research_tools.git#subdirectory=python\n",
        "import tools\n",
        "\n",
        "path = os.getcwd()"
      ],
      "metadata": {
        "id": "XcNTecnGRfXb"
      },
      "execution_count": null,
      "outputs": []
    },
    {
      "cell_type": "markdown",
      "source": [
        "## Pipeline implementation"
      ],
      "metadata": {
        "id": "QUMRt9bLfwbc"
      }
    },
    {
      "cell_type": "code",
      "source": [
        "#@title Login Configuration\n",
        "#@markdown Set up iEEG.org login account for obtaining data\n",
        "#@markdown\n",
        "#@markdown Please upload config.json file and password .bin file before run\n",
        "with open(os.path.join(path,\"config.json\"), 'rb') as f:\n",
        "    config = pd.read_json(f, typ='series')"
      ],
      "metadata": {
        "cellView": "form",
        "id": "xsFOY50FhDrS"
      },
      "execution_count": 3,
      "outputs": []
    },
    {
      "cell_type": "code",
      "source": [
        "#@title Get Data via Input\n",
        "#@markdown Specify the filename, start/stop time, electrodes, etc.\n",
        "iEEG_filename = \"HUP172_phaseII\"#@param {type:\"string\"}\n",
        "start_time = 402580 #@param {type:\"number\"}\n",
        "stop_time = 402600 #@param {type:\"number\"}\n",
        "electrodes = \"LE10, LE11, LH01, LH02, LH03, LH04\" #@param {type:\"string\"}\n",
        "electrodes = electrodes.split(', ')\n",
        "param = {'filename':iEEG_filename,\n",
        "         'start':start_time,\n",
        "         'stop':stop_time,\n",
        "         'electrodes':electrodes}"
      ],
      "metadata": {
        "id": "vke3Ydd_R_vM",
        "cellView": "form"
      },
      "execution_count": 4,
      "outputs": []
    },
    {
      "cell_type": "code",
      "source": [
        "#@title Get Data via File\n",
        "#@markdown Specify the path to file containing data info (.csv/.tsv)\n",
        "#@markdown Format Filename | Start time | Stop time | Electrodes\n",
        "file_path = \"getData_testInput.csv\" # @param {type:\"string\"}\n",
        "param = pd.read_csv(file_path)\n",
        "\n",
        "#tmp fix\n",
        "param = param.iloc[0,:3].to_dict()"
      ],
      "metadata": {
        "cellView": "form",
        "id": "rxHQ6ZKChfzM"
      },
      "execution_count": 10,
      "outputs": []
    },
    {
      "cell_type": "code",
      "source": [
        "#@title Import data\n",
        "#@markdown Download data from ieeg.org.\n",
        "#@markdown\n",
        "#@markdown Suggested syntax:\n",
        "#@markdown\n",
        "#@markdown ```data, channel_names, sampling_rate = tools.get_ieeg_data(username,password_file_path, filename, start_time, stop_time)```\n",
        "data = tools.get_ieeg_data(config.usr, config.pwd, param['filename'], param['start'], param['stop'])\n",
        "data = {'data':data[0],\n",
        "        'ch_names':data[1],\n",
        "        'fs':data[2],\n",
        "}"
      ],
      "metadata": {
        "id": "Q_Kbgo22hL2t",
        "cellView": "form"
      },
      "execution_count": 5,
      "outputs": []
    },
    {
      "cell_type": "code",
      "source": [
        "#@title Standardize channel names\n",
        "#@markdown Convert channel names to standardized format\n",
        "#@markdown\n",
        "#@markdown Suggested syntax:\n",
        "#@markdown\n",
        "#@markdown ```clean_names = tools.clean_labels(channel_names)```\n",
        "#@markdown\n",
        "#@markdown Example changes:\n",
        "#@markdown 'EKG01' -> 'EKG1'\n",
        "\n",
        "# show cleaned and original labels\n",
        "clean_names = tools.clean_labels(data['ch_names'])\n",
        "if np.all(clean_names==data['ch_names']):\n",
        "    print('No channels changed.')\n",
        "else:\n",
        "    comp_chan = np.vstack([data['ch_names'],clean_names]).T\n",
        "    print('Before   After')\n",
        "    print(comp_chan[np.where(clean_names!=data['ch_names'])[0],:])\n",
        "\n",
        "data['ch_names'] = clean_names\n",
        "\n"
      ],
      "metadata": {
        "colab": {
          "base_uri": "https://localhost:8080/"
        },
        "id": "L3Gbht0WhUaG",
        "outputId": "13382eb2-c793-4c2f-c694-e1e67539185a",
        "cellView": "form"
      },
      "execution_count": 6,
      "outputs": [
        {
          "output_type": "stream",
          "name": "stdout",
          "text": [
            "No channels changed.\n"
          ]
        }
      ]
    },
    {
      "cell_type": "code",
      "source": [
        "#@title Identifiy Non-iEEG channels\n",
        "#@markdown Find and return a boolean mask for Non-iEEG channels, 0 = iEEG, 1 = Non-iEEG\n",
        "#@markdown\n",
        "#@markdown Suggested syntax:\n",
        "#@markdown\n",
        "#@markdown ```nonieeg_mask = tools.find_non_ieeg(channel_names)```\n",
        "\n",
        "\n",
        "data['nonieeg'] = tools.find_non_ieeg(data['ch_names'])\n",
        "print('Non-iEEG channels includes:')\n",
        "print(data['ch_names'][data['nonieeg']])"
      ],
      "metadata": {
        "colab": {
          "base_uri": "https://localhost:8080/"
        },
        "id": "AAlQbWgrhbfb",
        "outputId": "c37d3c2a-423a-4969-db14-961336559769",
        "cellView": "form"
      },
      "execution_count": 7,
      "outputs": [
        {
          "output_type": "stream",
          "name": "stdout",
          "text": [
            "Non-iEEG channels includes:\n",
            "['EKG1' 'EKG2']\n"
          ]
        }
      ]
    },
    {
      "cell_type": "code",
      "source": [
        "#@title Identifiy bad channels\n",
        "#@markdown Find and return a boolean mask for bad channels (1 = bad channels), and details for reasons to reject.\n",
        "#@markdown\n",
        "#@markdown Suggested syntax:\n",
        "#@markdown\n",
        "#@markdown ```bad_mask,details = tools.identify_bad_chs(data,fs)```\n",
        "\n",
        "\n",
        "data['bad'],details = tools.identify_bad_chs(data['data'],data['fs'])\n",
        "print('Bad channels include:')\n",
        "print(data['ch_names'][data['bad']])\n",
        "#@markdown Details contain potential reasons for being a bad channel and corresponding channel indices.\n",
        "print('\\n')\n",
        "print('Specific reasons for being rejected:')\n",
        "for k,v in details.items():\n",
        "  print(k,data['ch_names'][v])"
      ],
      "metadata": {
        "colab": {
          "base_uri": "https://localhost:8080/"
        },
        "cellView": "form",
        "id": "_iAgqbSgne2T",
        "outputId": "c34c6d86-e90c-4ba2-e8d5-75081a158fd3"
      },
      "execution_count": 8,
      "outputs": [
        {
          "output_type": "stream",
          "name": "stdout",
          "text": [
            "Bad channels include:\n",
            "['LB12' 'RE8' 'RE9' 'RE10']\n",
            "\n",
            "\n",
            "Specific reasons for being rejected:\n",
            "noisy ['LB12' 'RE8' 'RE9' 'RE10']\n",
            "nans []\n",
            "zeros []\n",
            "var []\n",
            "higher_std []\n",
            "high_voltage []\n"
          ]
        }
      ]
    },
    {
      "cell_type": "code",
      "source": [
        "#@title Clean data\n",
        "#@markdown\n",
        "#@markdown Remove Non-iEEG and bad channels from data\n",
        "#@markdown\n",
        "data['clean_data'] = data['data'][:,~data['nonieeg']&~data['bad']]\n",
        "data['clean_chs'] = data['ch_names'][~data['nonieeg']&~data['bad']]"
      ],
      "metadata": {
        "id": "Vljh1vm6ht8u",
        "cellView": "form"
      },
      "execution_count": 9,
      "outputs": []
    },
    {
      "cell_type": "code",
      "source": [
        "#@title Filtering\n",
        "#@markdown Filter iEEG signal with bandpass and notch filter.\n",
        "#@markdown\n",
        "#@markdown Suggested syntax:\n",
        "#@markdown\n",
        "#@markdown ```filtered_data =  tools.bandpass_filter(data,fs,low_freq,high_freq)```\n",
        "#@markdown\n",
        "#@markdown ```filtered_data =  tools.notch_filter(data,fs,notch_freq)```\n",
        "low_freq = 1 # @param {type:\"number\"}\n",
        "high_freq = 120 # @param {type:\"number\"}\n",
        "notch = 60 # @param {type:\"number\"}\n",
        "\n",
        "data['filtered'] = tools.bandpass_filter(data['clean_data'],data['fs'])#,low_freq,high_freq)\n",
        "data['filtered'] = tools.notch_filter(data['filtered'],data['fs'])#notch)\n"
      ],
      "metadata": {
        "cellView": "form",
        "id": "Jlb0DEEiCn2x"
      },
      "execution_count": 11,
      "outputs": []
    },
    {
      "cell_type": "code",
      "source": [
        "#@title Re-referencing\n",
        "#@markdown Re-reference data to a different montage\n",
        "#@markdown\n",
        "#@markdown Available options:\n",
        "#@markdown * Common Average Re-referencing (CAR)\n",
        "#@markdown * Bipolar Re-referencing (BR)\n",
        "#@markdown * Laplacian Re-referencing (LAR): Note, requires location of electrodes and radius threshold\n",
        "#@markdown\n",
        "#@markdown Suggested syntax:\n",
        "#@markdown * CAR: ```rerefed_data, updated_chnames = tools.car(data, ch_names)```\n",
        "#@markdown * BR: ```rerefed_data, updated_chnames = tools.bipolar(data, ch_names)```\n",
        "#@markdown * LAR: ```rerefed_data, updated_chnames = tools.laplacian(data, ch_names, locs, radius)```\n",
        "\n",
        "ref = \"CAR\" # @param [\"CAR\", \"BR\", \"LAR\"]\n",
        "\n",
        "if ref == 'CAR':\n",
        "  data['car_data'], data['car_chs'] = tools.car(data['filtered'], data['clean_chs'])\n",
        "elif ref == 'BR':\n",
        "  data['br_data'], data['br_chs'] = tools.bipolar(data['filtered'], data['clean_chs'])\n",
        "#elif ref == 'LAR':"
      ],
      "metadata": {
        "cellView": "form",
        "id": "aheRjnKtCiTC"
      },
      "execution_count": 12,
      "outputs": []
    },
    {
      "cell_type": "code",
      "source": [
        "#@title Plot data\n",
        "#@markdown Generate\n",
        "t_sec = np.linspace(param['start'], param['stop'], num=data['car_data'].shape[0])\n",
        "fig, ax = tools.plot_iEEG_data(data['car_data'], t_sec)\n",
        "fig.set_size_inches(18.5, 10.5)\n",
        "ax.set_title(param['filename'])\n",
        "fig.show()\n",
        "\n",
        "\n",
        "\n",
        "\n"
      ],
      "metadata": {
        "id": "1OtyivOZiQjr",
        "cellView": "form"
      },
      "execution_count": null,
      "outputs": []
    },
    {
      "cell_type": "code",
      "source": [
        "import plotly.express as px\n",
        "import plotly.graph_objs as go\n",
        "fig = go.Figure()\n",
        "\n",
        "# Loop through channels and add traces\n",
        "for channel_idx in range(data['car_data'].shape[0]):\n",
        "    channel_data = data['car_data'][channel_idx, :]\n",
        "    channel_name = f'Channel {channel_idx + 1}'\n",
        "    fig.add_trace(go.Scatter(x=t_sec, y=channel_data, mode='lines', name=channel_name))\n",
        "\n",
        "# Update layout with a title and labels\n",
        "fig.update_layout(title='Interactive Time-Series Plot', xaxis_title='Time', yaxis_title='Amplitude')\n",
        "\n",
        "# Show the interactive plot\n",
        "fig.show()"
      ],
      "metadata": {
        "id": "tIK7zlF1KQZr"
      },
      "execution_count": 56,
      "outputs": []
    },
    {
      "cell_type": "markdown",
      "source": [
        "## Batch Processing\n",
        "Code for parallel processing of multiple data files"
      ],
      "metadata": {
        "id": "X4bZvabVKmu9"
      }
    },
    {
      "cell_type": "code",
      "source": [
        "#@title Settings\n",
        "#@markdown Get Data via File:\n",
        "#@markdown\n",
        "#@markdown Specify the path to file containing data info (.csv/.tsv)\n",
        "#@markdown Format Filename | Start time | Stop time | Electrodes\n",
        "file_path = \"getData_testInput.csv\" # @param {type:\"string\"}\n",
        "\n",
        "#@markdown Filtering Settings:\n",
        "\n",
        "low_freq = 1 # @param {type:\"number\"}\n",
        "high_freq = 120 # @param {type:\"number\"}\n",
        "notch = 60 # @param {type:\"number\"}\n",
        "\n",
        "#@markdown Re-ref method Setting:\n",
        "ref = \"CAR\" # @param [\"CAR\", \"BR\", \"LAR\"]\n",
        "\n",
        "#@markdown Save data:\n",
        "save = True # @param {type:\"boolean\"}\n",
        "\n",
        "import pickle\n",
        "def save_file(data,filename):\n",
        "  with open(filename+'.pkl', 'wb') as fp:\n",
        "      pickle.dump(data, fp)"
      ],
      "metadata": {
        "cellView": "form",
        "id": "Qk7LZT4xKiqR"
      },
      "execution_count": 17,
      "outputs": []
    },
    {
      "cell_type": "code",
      "source": [
        "#@title Implementation\n",
        "with open(os.path.join(path,\"config.json\"), 'rb') as f:\n",
        "    config = pd.read_json(f, typ='series')\n",
        "\n",
        "param = pd.read_csv(file_path)\n",
        "\n",
        "#tmp fix\n",
        "param = param.iloc[:2,:3]\n",
        "param_dict = []\n",
        "for i in range(param.shape[0]):\n",
        "  param_dict.append(param.iloc[i,:].to_dict())\n",
        "\n",
        "for i in range(len(param_dict)):\n",
        "  param = param_dict[i]\n",
        "  data = tools.get_ieeg_data(config.usr, config.pwd, param['filename'], param['start'], param['stop'])\n",
        "  data = {'data':data[0],\n",
        "          'ch_names':data[1],\n",
        "          'fs':data[2],\n",
        "  }\n",
        "  data['ch_names'] = tools.clean_labels(data['ch_names'])\n",
        "  data['nonieeg'] = tools.find_non_ieeg(data['ch_names'])\n",
        "  data['bad'],data['bad_reasons'] = tools.identify_bad_chs(data['data'],data['fs'])\n",
        "  data['clean_data'] = data['data'][:,~data['nonieeg']&~data['bad']]\n",
        "  data['clean_chs'] = data['ch_names'][~data['nonieeg']&~data['bad']]\n",
        "  data['filtered'] = tools.bandpass_filter(data['clean_data'],data['fs'])#,low_freq,high_freq)\n",
        "  data['filtered'] = tools.notch_filter(data['filtered'],data['fs'])#notch)\n",
        "  if ref == 'CAR':\n",
        "    data['car_data'], data['car_chs'] = tools.car(data['filtered'], data['clean_chs'])\n",
        "  elif ref == 'BR':\n",
        "    data['br_data'], data['br_chs'] = tools.bipolar(data['filtered'], data['clean_chs'])\n",
        "  if save:\n",
        "    save_file(data,'_'.join([param['filename'],str(param['start']),str(param['stop'])]))\n"
      ],
      "metadata": {
        "cellView": "form",
        "id": "SGtL-cbIKy_6"
      },
      "execution_count": 21,
      "outputs": []
    }
  ]
}