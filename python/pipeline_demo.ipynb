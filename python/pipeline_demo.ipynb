{
  "cells": [
    {
      "cell_type": "markdown",
      "metadata": {
        "id": "lNHmdtZYfGM8"
      },
      "source": [
        "### Center of Neuroengineering and Therapeutics\n",
        "# IEEG Pre-processing Pipeline\n",
        "This notebook provides a recommended usage pipeline for the iEEG pre-processing toolkit."
      ]
    },
    {
      "cell_type": "markdown",
      "metadata": {
        "id": "qK-46nFlehsT"
      },
      "source": [
        "## Imports\n",
        "\n"
      ]
    },
    {
      "cell_type": "code",
      "execution_count": 1,
      "metadata": {
        "id": "XcNTecnGRfXb"
      },
      "outputs": [
        {
          "name": "stdout",
          "output_type": "stream",
          "text": [
            "Collecting git+https://github.com/ieeg-portal/ieegpy.git\n",
            "  Cloning https://github.com/ieeg-portal/ieegpy.git to /private/var/folders/sf/ycqlj5zs28qcctvjfd98wwfw0000gn/T/pip-req-build-jo836cff\n",
            "  Running command git clone --filter=blob:none --quiet https://github.com/ieeg-portal/ieegpy.git /private/var/folders/sf/ycqlj5zs28qcctvjfd98wwfw0000gn/T/pip-req-build-jo836cff\n",
            "  Resolved https://github.com/ieeg-portal/ieegpy.git to commit 080bfa42a8503380ef164b5e7b116613f75073bb\n",
            "  Preparing metadata (setup.py) ... \u001b[?25ldone\n",
            "\u001b[?25hRequirement already satisfied: deprecation in /Users/meow/opt/miniconda3/envs/ieegpy/lib/python3.10/site-packages (from ieeg==1.6) (2.1.0)\n",
            "Requirement already satisfied: requests in /Users/meow/opt/miniconda3/envs/ieegpy/lib/python3.10/site-packages (from ieeg==1.6) (2.28.1)\n",
            "Requirement already satisfied: numpy in /Users/meow/opt/miniconda3/envs/ieegpy/lib/python3.10/site-packages (from ieeg==1.6) (1.23.0)\n",
            "Requirement already satisfied: pandas in /Users/meow/opt/miniconda3/envs/ieegpy/lib/python3.10/site-packages (from ieeg==1.6) (1.4.3)\n",
            "Requirement already satisfied: pennprov==2.2.4 in /Users/meow/opt/miniconda3/envs/ieegpy/lib/python3.10/site-packages (from ieeg==1.6) (2.2.4)\n",
            "Requirement already satisfied: six>=1.10 in /Users/meow/opt/miniconda3/envs/ieegpy/lib/python3.10/site-packages (from pennprov==2.2.4->ieeg==1.6) (1.16.0)\n",
            "Requirement already satisfied: urllib3>=1.23 in /Users/meow/opt/miniconda3/envs/ieegpy/lib/python3.10/site-packages (from pennprov==2.2.4->ieeg==1.6) (1.26.9)\n",
            "Requirement already satisfied: certifi>=2017.4.17 in /Users/meow/opt/miniconda3/envs/ieegpy/lib/python3.10/site-packages (from pennprov==2.2.4->ieeg==1.6) (2022.6.15)\n",
            "Requirement already satisfied: python-dateutil>=2.1 in /Users/meow/opt/miniconda3/envs/ieegpy/lib/python3.10/site-packages (from pennprov==2.2.4->ieeg==1.6) (2.8.2)\n",
            "Requirement already satisfied: packaging in /Users/meow/opt/miniconda3/envs/ieegpy/lib/python3.10/site-packages (from deprecation->ieeg==1.6) (21.3)\n",
            "Requirement already satisfied: pytz>=2020.1 in /Users/meow/opt/miniconda3/envs/ieegpy/lib/python3.10/site-packages (from pandas->ieeg==1.6) (2022.1)\n",
            "Requirement already satisfied: charset-normalizer<3,>=2 in /Users/meow/opt/miniconda3/envs/ieegpy/lib/python3.10/site-packages (from requests->ieeg==1.6) (2.1.0)\n",
            "Requirement already satisfied: idna<4,>=2.5 in /Users/meow/opt/miniconda3/envs/ieegpy/lib/python3.10/site-packages (from requests->ieeg==1.6) (3.3)\n",
            "Requirement already satisfied: pyparsing!=3.0.5,>=2.0.2 in /Users/meow/opt/miniconda3/envs/ieegpy/lib/python3.10/site-packages (from packaging->deprecation->ieeg==1.6) (3.0.9)\n",
            "Collecting git+https://github.com/haoershi/CNT_research_tools.git#subdirectory=python\n",
            "  Cloning https://github.com/haoershi/CNT_research_tools.git to /private/var/folders/sf/ycqlj5zs28qcctvjfd98wwfw0000gn/T/pip-req-build-_z0pcyuz\n",
            "  Running command git clone --filter=blob:none --quiet https://github.com/haoershi/CNT_research_tools.git /private/var/folders/sf/ycqlj5zs28qcctvjfd98wwfw0000gn/T/pip-req-build-_z0pcyuz\n",
            "  Resolved https://github.com/haoershi/CNT_research_tools.git to commit 54281ca38f8efe3ce8be48a8a5714fedf5848266\n",
            "  Preparing metadata (setup.py) ... \u001b[?25ldone\n",
            "\u001b[?25hRequirement already satisfied: pennprov==2.2.4 in /Users/meow/opt/miniconda3/envs/ieegpy/lib/python3.10/site-packages (from cnt-tools==0.1) (2.2.4)\n",
            "Requirement already satisfied: pyqt5-sip==12.9.0 in /Users/meow/opt/miniconda3/envs/ieegpy/lib/python3.10/site-packages/PyQt5_sip-12.9.0-py3.10-macosx-10.9-x86_64.egg (from cnt-tools==0.1) (12.9.0)\n",
            "Requirement already satisfied: install==1.3.5 in /Users/meow/opt/miniconda3/envs/ieegpy/lib/python3.10/site-packages (from cnt-tools==0.1) (1.3.5)\n",
            "Requirement already satisfied: pytest in /Users/meow/opt/miniconda3/envs/ieegpy/lib/python3.10/site-packages (from cnt-tools==0.1) (7.4.2)\n",
            "Requirement already satisfied: beartype in /Users/meow/opt/miniconda3/envs/ieegpy/lib/python3.10/site-packages (from cnt-tools==0.1) (0.16.2)\n",
            "Requirement already satisfied: pytest-html in /Users/meow/opt/miniconda3/envs/ieegpy/lib/python3.10/site-packages (from cnt-tools==0.1) (4.0.2)\n",
            "Requirement already satisfied: urllib3>=1.23 in /Users/meow/opt/miniconda3/envs/ieegpy/lib/python3.10/site-packages (from pennprov==2.2.4->cnt-tools==0.1) (1.26.9)\n",
            "Requirement already satisfied: python-dateutil>=2.1 in /Users/meow/opt/miniconda3/envs/ieegpy/lib/python3.10/site-packages (from pennprov==2.2.4->cnt-tools==0.1) (2.8.2)\n",
            "Requirement already satisfied: certifi>=2017.4.17 in /Users/meow/opt/miniconda3/envs/ieegpy/lib/python3.10/site-packages (from pennprov==2.2.4->cnt-tools==0.1) (2022.6.15)\n",
            "Requirement already satisfied: six>=1.10 in /Users/meow/opt/miniconda3/envs/ieegpy/lib/python3.10/site-packages (from pennprov==2.2.4->cnt-tools==0.1) (1.16.0)\n",
            "Requirement already satisfied: tomli>=1.0.0 in /Users/meow/opt/miniconda3/envs/ieegpy/lib/python3.10/site-packages (from pytest->cnt-tools==0.1) (2.0.1)\n",
            "Requirement already satisfied: packaging in /Users/meow/opt/miniconda3/envs/ieegpy/lib/python3.10/site-packages (from pytest->cnt-tools==0.1) (21.3)\n",
            "Requirement already satisfied: pluggy<2.0,>=0.12 in /Users/meow/opt/miniconda3/envs/ieegpy/lib/python3.10/site-packages (from pytest->cnt-tools==0.1) (1.3.0)\n",
            "Requirement already satisfied: exceptiongroup>=1.0.0rc8 in /Users/meow/opt/miniconda3/envs/ieegpy/lib/python3.10/site-packages (from pytest->cnt-tools==0.1) (1.1.3)\n",
            "Requirement already satisfied: iniconfig in /Users/meow/opt/miniconda3/envs/ieegpy/lib/python3.10/site-packages (from pytest->cnt-tools==0.1) (2.0.0)\n",
            "Requirement already satisfied: pytest-metadata>=2.0.0 in /Users/meow/opt/miniconda3/envs/ieegpy/lib/python3.10/site-packages (from pytest-html->cnt-tools==0.1) (3.0.0)\n",
            "Requirement already satisfied: jinja2>=3.0.0 in /Users/meow/opt/miniconda3/envs/ieegpy/lib/python3.10/site-packages (from pytest-html->cnt-tools==0.1) (3.1.2)\n",
            "Requirement already satisfied: MarkupSafe>=2.0 in /Users/meow/opt/miniconda3/envs/ieegpy/lib/python3.10/site-packages (from jinja2>=3.0.0->pytest-html->cnt-tools==0.1) (2.1.1)\n",
            "Requirement already satisfied: pyparsing!=3.0.5,>=2.0.2 in /Users/meow/opt/miniconda3/envs/ieegpy/lib/python3.10/site-packages (from packaging->pytest->cnt-tools==0.1) (3.0.9)\n",
            "Building wheels for collected packages: cnt-tools\n",
            "  Building wheel for cnt-tools (setup.py) ... \u001b[?25ldone\n",
            "\u001b[?25h  Created wheel for cnt-tools: filename=cnt_tools-0.1-py3-none-any.whl size=16383 sha256=fd8793330244cf02a768fa6838160093c4fc3c9d8213d0b86677efb033c6ce4a\n",
            "  Stored in directory: /private/var/folders/sf/ycqlj5zs28qcctvjfd98wwfw0000gn/T/pip-ephem-wheel-cache-lc7tj__t/wheels/f3/c3/a0/692561f283907da48ee8fe0fc32452fa451913ff46e92a7719\n",
            "Successfully built cnt-tools\n",
            "Installing collected packages: cnt-tools\n",
            "Successfully installed cnt-tools-0.1\n"
          ]
        }
      ],
      "source": [
        "# set search path\n",
        "import os,sys\n",
        "import pandas as pd\n",
        "import numpy as np\n",
        "\n",
        "!pip install git+https://github.com/ieeg-portal/ieegpy.git # Install ieegpy toolbox directly from github\n",
        "from ieeg.auth import Session\n",
        "\n",
        "!pip install git+https://github.com/haoershi/CNT_research_tools.git#subdirectory=python\n",
        "import tools\n",
        "\n",
        "path = os.getcwd()"
      ]
    },
    {
      "cell_type": "markdown",
      "metadata": {
        "id": "QUMRt9bLfwbc"
      },
      "source": [
        "## Pipeline implementation"
      ]
    },
    {
      "cell_type": "code",
      "execution_count": 2,
      "metadata": {
        "cellView": "form",
        "id": "xsFOY50FhDrS"
      },
      "outputs": [],
      "source": [
        "#@title Login Configuration\n",
        "#@markdown Set up iEEG.org login account for obtaining data\n",
        "#@markdown\n",
        "#@markdown Please upload config.json file and password .bin file before run\n",
        "with open(os.path.join(path,\"config.json\"), 'rb') as f:\n",
        "    config = pd.read_json(f, typ='series')"
      ]
    },
    {
      "cell_type": "code",
      "execution_count": 5,
      "metadata": {
        "cellView": "form",
        "id": "vke3Ydd_R_vM"
      },
      "outputs": [],
      "source": [
        "#@title Get Data via Input\n",
        "#@markdown Specify the filename, start/stop time, electrodes, etc.\n",
        "iEEG_filename = \"HUP172_phaseII\"#@param {type:\"string\"}\n",
        "start_time = 402580 #@param {type:\"number\"}\n",
        "stop_time = 402600 #@param {type:\"number\"}\n",
        "electrodes = \"LE10, LE11, LH01, LH02, LH03, LH04\" #@param {type:\"string\"}\n",
        "electrodes = electrodes.split(', ')\n",
        "param = {'filename':iEEG_filename,\n",
        "         'start':start_time,\n",
        "         'stop':stop_time,\n",
        "         'electrodes':electrodes}"
      ]
    },
    {
      "cell_type": "code",
      "execution_count": null,
      "metadata": {
        "cellView": "form",
        "id": "rxHQ6ZKChfzM"
      },
      "outputs": [],
      "source": [
        "#@title Get Data via File\n",
        "#@markdown Specify the path to file containing data info (.csv/.tsv)\n",
        "#@markdown Format Filename | Start time | Stop time | Electrodes\n",
        "file_path = \"getData_testInput.csv\" # @param {type:\"string\"}\n",
        "param = pd.read_csv(file_path)\n",
        "\n",
        "#tmp fix\n",
        "param = param.iloc[0,:3].to_dict()"
      ]
    },
    {
      "cell_type": "code",
      "execution_count": 6,
      "metadata": {
        "cellView": "form",
        "id": "Q_Kbgo22hL2t"
      },
      "outputs": [],
      "source": [
        "#@title Import data\n",
        "#@markdown Download data from ieeg.org.\n",
        "#@markdown\n",
        "#@markdown Suggested syntax:\n",
        "#@markdown\n",
        "#@markdown ```data, channel_names, sampling_rate = tools.get_ieeg_data(username,password_file_path, filename, start_time, stop_time)```\n",
        "data = tools.get_ieeg_data(config.usr, config.pwd, param['filename'], param['start'], param['stop'])\n",
        "data = {'data':data[0],\n",
        "        'ch_names':data[1],\n",
        "        'fs':data[2],\n",
        "}"
      ]
    },
    {
      "cell_type": "code",
      "execution_count": 7,
      "metadata": {
        "cellView": "form",
        "colab": {
          "base_uri": "https://localhost:8080/"
        },
        "id": "L3Gbht0WhUaG",
        "outputId": "13382eb2-c793-4c2f-c694-e1e67539185a"
      },
      "outputs": [
        {
          "name": "stdout",
          "output_type": "stream",
          "text": [
            "No channels changed.\n"
          ]
        }
      ],
      "source": [
        "#@title Standardize channel names\n",
        "#@markdown Convert channel names to standardized format\n",
        "#@markdown\n",
        "#@markdown Suggested syntax:\n",
        "#@markdown\n",
        "#@markdown ```clean_names = tools.clean_labels(channel_names)```\n",
        "#@markdown\n",
        "#@markdown Example changes:\n",
        "#@markdown 'EKG01' -> 'EKG1'\n",
        "\n",
        "# show cleaned and original labels\n",
        "clean_names = tools.clean_labels(data['ch_names'])\n",
        "if np.all(clean_names==data['ch_names']):\n",
        "    print('No channels changed.')\n",
        "else:\n",
        "    comp_chan = np.vstack([data['ch_names'],clean_names]).T\n",
        "    print('Before   After')\n",
        "    print(comp_chan[np.where(clean_names!=data['ch_names'])[0],:])\n",
        "\n",
        "data['ch_names'] = clean_names\n",
        "\n"
      ]
    },
    {
      "cell_type": "code",
      "execution_count": 8,
      "metadata": {
        "cellView": "form",
        "colab": {
          "base_uri": "https://localhost:8080/"
        },
        "id": "AAlQbWgrhbfb",
        "outputId": "c37d3c2a-423a-4969-db14-961336559769"
      },
      "outputs": [
        {
          "name": "stdout",
          "output_type": "stream",
          "text": [
            "Non-iEEG channels includes:\n",
            "['EKG1' 'EKG2']\n"
          ]
        }
      ],
      "source": [
        "#@title Identifiy Non-iEEG channels\n",
        "#@markdown Find and return a boolean mask for Non-iEEG channels, 0 = iEEG, 1 = Non-iEEG\n",
        "#@markdown\n",
        "#@markdown Suggested syntax:\n",
        "#@markdown\n",
        "#@markdown ```nonieeg_mask = tools.find_non_ieeg(channel_names)```\n",
        "\n",
        "\n",
        "data['nonieeg'] = tools.find_non_ieeg(data['ch_names'])\n",
        "print('Non-iEEG channels includes:')\n",
        "print(data['ch_names'][data['nonieeg']])"
      ]
    },
    {
      "cell_type": "code",
      "execution_count": 9,
      "metadata": {
        "cellView": "form",
        "colab": {
          "base_uri": "https://localhost:8080/"
        },
        "id": "_iAgqbSgne2T",
        "outputId": "c34c6d86-e90c-4ba2-e8d5-75081a158fd3"
      },
      "outputs": [
        {
          "name": "stdout",
          "output_type": "stream",
          "text": [
            "Bad channels include:\n",
            "['LB12' 'RE8' 'RE9' 'RE10']\n",
            "\n",
            "\n",
            "Specific reasons for being rejected:\n",
            "noisy ['LB12' 'RE8' 'RE9' 'RE10']\n",
            "nans []\n",
            "zeros []\n",
            "var []\n",
            "higher_std []\n",
            "high_voltage []\n"
          ]
        }
      ],
      "source": [
        "#@title Identifiy bad channels\n",
        "#@markdown Find and return a boolean mask for bad channels (1 = bad channels), and details for reasons to reject.\n",
        "#@markdown\n",
        "#@markdown Suggested syntax:\n",
        "#@markdown\n",
        "#@markdown ```bad_mask,details = tools.identify_bad_chs(data,fs)```\n",
        "\n",
        "\n",
        "data['bad'],details = tools.identify_bad_chs(data['data'],data['fs'])\n",
        "print('Bad channels include:')\n",
        "print(data['ch_names'][data['bad']])\n",
        "#@markdown Details contain potential reasons for being a bad channel and corresponding channel indices.\n",
        "print('\\n')\n",
        "print('Specific reasons for being rejected:')\n",
        "for k,v in details.items():\n",
        "  print(k,data['ch_names'][v])"
      ]
    },
    {
      "cell_type": "code",
      "execution_count": 10,
      "metadata": {
        "cellView": "form",
        "id": "Vljh1vm6ht8u"
      },
      "outputs": [],
      "source": [
        "#@title Clean data\n",
        "#@markdown\n",
        "#@markdown Remove Non-iEEG and bad channels from data\n",
        "#@markdown\n",
        "data['clean_data'] = data['data'][:,~data['nonieeg']&~data['bad']]\n",
        "data['clean_chs'] = data['ch_names'][~data['nonieeg']&~data['bad']]"
      ]
    },
    {
      "cell_type": "code",
      "execution_count": 11,
      "metadata": {
        "cellView": "form",
        "id": "Jlb0DEEiCn2x"
      },
      "outputs": [],
      "source": [
        "#@title Filtering\n",
        "#@markdown Filter iEEG signal with bandpass and notch filter.\n",
        "#@markdown\n",
        "#@markdown Suggested syntax:\n",
        "#@markdown\n",
        "#@markdown ```filtered_data =  tools.bandpass_filter(data,fs,low_freq,high_freq)```\n",
        "#@markdown\n",
        "#@markdown ```filtered_data =  tools.notch_filter(data,fs,notch_freq)```\n",
        "low_freq = 1 # @param {type:\"number\"}\n",
        "high_freq = 120 # @param {type:\"number\"}\n",
        "notch = 60 # @param {type:\"number\"}\n",
        "\n",
        "data['filtered'] = tools.bandpass_filter(data['clean_data'],data['fs'],low_freq,high_freq)\n",
        "data['filtered'] = tools.notch_filter(data['filtered'],data['fs'],notch)\n"
      ]
    },
    {
      "cell_type": "code",
      "execution_count": 12,
      "metadata": {
        "cellView": "form",
        "id": "aheRjnKtCiTC"
      },
      "outputs": [],
      "source": [
        "#@title Re-referencing\n",
        "#@markdown Re-reference data to a different montage\n",
        "#@markdown\n",
        "#@markdown Available options:\n",
        "#@markdown * Common Average Re-referencing (CAR)\n",
        "#@markdown * Bipolar Re-referencing (BR)\n",
        "#@markdown * Laplacian Re-referencing (LAR): Note, requires location of electrodes and radius threshold\n",
        "#@markdown\n",
        "#@markdown Suggested syntax:\n",
        "#@markdown * CAR: ```rerefed_data, updated_chnames = tools.car(data, ch_names)```\n",
        "#@markdown * BR: ```rerefed_data, updated_chnames = tools.bipolar(data, ch_names)```\n",
        "#@markdown * LAR: ```rerefed_data, updated_chnames = tools.laplacian(data, ch_names, locs, radius)```\n",
        "\n",
        "ref = \"CAR\" # @param [\"CAR\", \"BR\", \"LAR\"]\n",
        "\n",
        "if ref == 'CAR':\n",
        "  data['car_data'], data['car_chs'] = tools.car(data['filtered'], data['clean_chs'])\n",
        "elif ref == 'BR':\n",
        "  data['br_data'], data['br_chs'] = tools.bipolar(data['filtered'], data['clean_chs'])\n",
        "#elif ref == 'LAR':"
      ]
    },
    {
      "cell_type": "code",
      "execution_count": null,
      "metadata": {
        "cellView": "form",
        "id": "1OtyivOZiQjr"
      },
      "outputs": [],
      "source": [
        "#@title Plot data\n",
        "#@markdown Generate\n",
        "t_sec = np.linspace(param['start'], param['stop'], num=data['car_data'].shape[0])\n",
        "fig, ax = tools.plot_iEEG_data(data['car_data'], t_sec)\n",
        "fig.set_size_inches(18.5, 10.5)\n",
        "ax.set_title(param['filename'])\n",
        "fig.show()\n",
        "\n",
        "\n",
        "\n",
        "\n"
      ]
    },
    {
      "cell_type": "markdown",
      "metadata": {
        "id": "X4bZvabVKmu9"
      },
      "source": [
        "## Batch Processing\n",
        "Code for parallel processing of multiple data files"
      ]
    },
    {
      "cell_type": "code",
      "execution_count": 17,
      "metadata": {
        "cellView": "form",
        "id": "Qk7LZT4xKiqR"
      },
      "outputs": [],
      "source": [
        "#@title Settings\n",
        "#@markdown Get Data via File:\n",
        "#@markdown\n",
        "#@markdown Specify the path to file containing data info (.csv/.tsv)\n",
        "#@markdown Format Filename | Start time | Stop time | Electrodes\n",
        "file_path = \"getData_testInput.csv\" # @param {type:\"string\"}\n",
        "\n",
        "#@markdown Filtering Settings:\n",
        "\n",
        "low_freq = 1 # @param {type:\"number\"}\n",
        "high_freq = 120 # @param {type:\"number\"}\n",
        "notch = 60 # @param {type:\"number\"}\n",
        "\n",
        "#@markdown Re-ref method Setting:\n",
        "ref = \"CAR\" # @param [\"CAR\", \"BR\", \"LAR\"]\n",
        "\n",
        "#@markdown Save data:\n",
        "save = True # @param {type:\"boolean\"}\n",
        "\n",
        "import pickle\n",
        "def save_file(data,filename):\n",
        "  with open(filename+'.pkl', 'wb') as fp:\n",
        "      pickle.dump(data, fp)"
      ]
    },
    {
      "cell_type": "code",
      "execution_count": 21,
      "metadata": {
        "cellView": "form",
        "id": "SGtL-cbIKy_6"
      },
      "outputs": [],
      "source": [
        "#@title Implementation\n",
        "with open(os.path.join(path,\"config.json\"), 'rb') as f:\n",
        "    config = pd.read_json(f, typ='series')\n",
        "\n",
        "param = pd.read_csv(file_path)\n",
        "\n",
        "#tmp fix\n",
        "param = param.iloc[:2,:3]\n",
        "param_dict = []\n",
        "for i in range(param.shape[0]):\n",
        "  param_dict.append(param.iloc[i,:].to_dict())\n",
        "\n",
        "for i in range(len(param_dict)):\n",
        "  param = param_dict[i]\n",
        "  data = tools.get_ieeg_data(config.usr, config.pwd, param['filename'], param['start'], param['stop'])\n",
        "  data = {'data':data[0],\n",
        "          'ch_names':data[1],\n",
        "          'fs':data[2],\n",
        "  }\n",
        "  data['ch_names'] = tools.clean_labels(data['ch_names'])\n",
        "  data['nonieeg'] = tools.find_non_ieeg(data['ch_names'])\n",
        "  data['bad'],data['bad_reasons'] = tools.identify_bad_chs(data['data'],data['fs'])\n",
        "  data['clean_data'] = data['data'][:,~data['nonieeg']&~data['bad']]\n",
        "  data['clean_chs'] = data['ch_names'][~data['nonieeg']&~data['bad']]\n",
        "  data['filtered'] = tools.bandpass_filter(data['clean_data'],data['fs'],low_freq,high_freq)\n",
        "  data['filtered'] = tools.notch_filter(data['filtered'],data['fs'],notch)\n",
        "  if ref == 'CAR':\n",
        "    data['car_data'], data['car_chs'] = tools.car(data['filtered'], data['clean_chs'])\n",
        "  elif ref == 'BR':\n",
        "    data['br_data'], data['br_chs'] = tools.bipolar(data['filtered'], data['clean_chs'])\n",
        "  if save:\n",
        "    save_file(data,'_'.join([param['filename'],str(param['start']),str(param['stop'])]))\n"
      ]
    }
  ],
  "metadata": {
    "colab": {
      "collapsed_sections": [
        "qK-46nFlehsT"
      ],
      "provenance": []
    },
    "kernelspec": {
      "display_name": "Python 3",
      "name": "python3"
    },
    "language_info": {
      "codemirror_mode": {
        "name": "ipython",
        "version": 3
      },
      "file_extension": ".py",
      "mimetype": "text/x-python",
      "name": "python",
      "nbconvert_exporter": "python",
      "pygments_lexer": "ipython3",
      "version": "3.10.5"
    }
  },
  "nbformat": 4,
  "nbformat_minor": 0
}
