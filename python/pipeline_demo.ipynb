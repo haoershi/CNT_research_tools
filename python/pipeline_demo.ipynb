{
  "cells": [
    {
      "cell_type": "markdown",
      "metadata": {
        "id": "lNHmdtZYfGM8"
      },
      "source": [
        "### Center of Neuroengineering and Therapeutics\n",
        "# IEEG Pre-processing Pipeline\n",
        "This notebook provides a recommended usage pipeline for the iEEG pre-processing toolkit."
      ]
    },
    {
      "cell_type": "markdown",
      "metadata": {
        "id": "qK-46nFlehsT"
      },
      "source": [
        "## Imports\n",
        "\n"
      ]
    },
    {
      "cell_type": "code",
      "execution_count": 1,
      "metadata": {
        "id": "XcNTecnGRfXb"
      },
      "outputs": [],
      "source": [
        "# set search path\n",
        "import os,sys\n",
        "import pandas as pd\n",
        "import numpy as np\n",
        "\n",
        "!pip install git+https://github.com/ieeg-portal/ieegpy.git # Install ieegpy toolbox directly from github\n",
        "from ieeg.auth import Session\n",
        "\n",
        "!pip install git+https://github.com/haoershi/CNT_research_tools.git#subdirectory=python\n",
        "from CNTtools import iEEGPreprocess\n",
        "\n",
        "path = os.getcwd()"
      ]
    },
    {
      "cell_type": "markdown",
      "metadata": {},
      "source": []
    },
    {
      "cell_type": "markdown",
      "metadata": {
        "id": "QUMRt9bLfwbc"
      },
      "source": [
        "## Pipeline implementation"
      ]
    },
    {
      "cell_type": "code",
      "execution_count": null,
      "metadata": {},
      "outputs": [],
      "source": [
        "#@title Initialize Session\n",
        "#@markdown\n",
        "#@markdown Initialize iEEGPreprocess session.\n",
        "#@markdown \n",
        "#@markdown Suggested syntax:\n",
        "#@markdown\n",
        "#@markdown ```session = iEEGPreprocess()```\n",
        "session = iEEGPreprocess()"
      ]
    },
    {
      "cell_type": "markdown",
      "metadata": {},
      "source": [
        "### Available Methods \n",
        "**Arguments:**\n",
        "* datasets: diction of data objects\n",
        "* meta: metadata as a pandas dataframe with columns | filename | start | stop | dura | fs |\n",
        "* num_data: number of data objects available\n",
        "* users: list of available iEEG login usernames\n",
        "* user: dict, user information of the active account\n",
        "* user_data_dir: str, default path to save user data\n",
        "**Methods:**\n",
        "* download_data: download data from ieeg.org\n",
        "* list_data: list meta info\n",
        "* load_data: load data from saved pickle files\n",
        "* login: login with default or specified username\n",
        "* login_config: input username and password info to create config files\n",
        "* save: save session as pickle file"
      ]
    },
    {
      "cell_type": "code",
      "execution_count": null,
      "metadata": {},
      "outputs": [],
      "source": [
        "dir(session)"
      ]
    },
    {
      "cell_type": "code",
      "execution_count": null,
      "metadata": {
        "cellView": "form",
        "id": "xsFOY50FhDrS"
      },
      "outputs": [],
      "source": [
        "#@title Login Configuration\n",
        "#@markdown Set up iEEG.org login info for obtaining data\n",
        "#@markdown\n",
        "#@markdown Initialize iEEGPreprocess session.\n",
        "#@markdown \n",
        "#@markdown Suggested syntax:\n",
        "#@markdown\n",
        "#@markdown ```session.login_config()```\n",
        "#@markdown \n",
        "session.login_config()"
      ]
    },
    {
      "cell_type": "code",
      "execution_count": null,
      "metadata": {
        "cellView": "form",
        "id": "vke3Ydd_R_vM"
      },
      "outputs": [],
      "source": [
        "#@title Get Data via Input\n",
        "#@markdown Specify the filename, start/stop time, electrodes, etc.\n",
        "iEEG_filename = \"HUP172_phaseII\"#@param {type:\"string\"}\n",
        "start_time = 402580 #@param {type:\"number\"}\n",
        "stop_time = 402600 #@param {type:\"number\"}\n",
        "electrodes = \"LE10, LE11, LH01, LH02, LH03, LH04\" #@param {type:\"string\"}\n",
        "electrodes = electrodes.split(', ')\n",
        "# param = {'filename':iEEG_filename,\n",
        "#          'start':start_time,\n",
        "#          'stop':stop_time,\n",
        "#          'electrodes':electrodes}"
      ]
    },
    {
      "cell_type": "code",
      "execution_count": null,
      "metadata": {
        "cellView": "form",
        "id": "rxHQ6ZKChfzM"
      },
      "outputs": [],
      "source": [
        "#@title Get Data via File\n",
        "#@markdown Specify the path to file containing data info (.csv/.tsv)\n",
        "#@markdown Format Filename | Start time | Stop time | Electrodes\n",
        "file_path = \"test/getData_testInput.csv\" # @param {type:\"string\"}\n",
        "param = pd.read_csv(file_path)\n",
        "\n",
        "#tmp fix\n",
        "param = param.iloc[0,:3].to_dict()"
      ]
    },
    {
      "cell_type": "code",
      "execution_count": null,
      "metadata": {
        "cellView": "form",
        "id": "Q_Kbgo22hL2t"
      },
      "outputs": [],
      "source": [
        "#@title Import data\n",
        "#@markdown Download data from ieeg.org.\n",
        "#@markdown\n",
        "#@markdown Suggested syntax:\n",
        "#@markdown\n",
        "#@markdown ```data = session.download_data(filename, start_time, stop_time)```\n",
        "data = session.download_data(iEEG_filename, start_time, stop_time, select_elecs = electrodes)\n",
        "session.meta"
      ]
    },
    {
      "cell_type": "markdown",
      "metadata": {},
      "source": [
        "### Available Methods for Data Object\n",
        "**Arguments:**\n",
        "* filename/start/stop: inputs\n",
        "* select_elects: selected channels for downloading\n",
        "* ignore_elecs: channels excluded from downloading\n",
        "* dura: duration of data segment\n",
        "* data: active data array after pre-processing\n",
        "* fs: sampling frequency\n",
        "* ch_names: active channel names after pre-processing\n",
        "* ref_chnames: channel names after re-referencing\n",
        "* index: dataset index in current session\n",
        "* conn: diction storing connectivity data\n",
        "* history: operations done on data object\n",
        "* raw: raw data array\n",
        "* raw_chs: raw channel names\n",
        "* username: ieeg username\n",
        "* user_data_dir: str, default path to save user data\n",
        "* nonieeg: boolean mask for non-intracranial channels\n",
        "* bad: boolean mask for channels containing artifacts\n",
        "* reject_details: reasons for identify bad channels\n",
        "\n",
        "**Methods:**\n",
        "\n",
        "Channels:\n",
        "* clean_labels: standardize channel names\n",
        "* find_nonieeg: identify non-iEEG channels\n",
        "* find_bad_chs: identify bad channels containing artifacts\n",
        "* reject_nonieeg: identify and remove non-iEEG channels\n",
        "* reject_artifact: identify and remove artifact channels\n",
        "\n",
        "Filtering:\n",
        "* bandpass_filter: apply bandpass filter\n",
        "* notch_filter: apply notch filter\n",
        "\n",
        "Re-referencing:\n",
        "* car: common average re-referencing\n",
        "* bipolar: bipolar re-referencing\n",
        "* laplacian: laplacian re-referencing\n",
        "\n",
        "Connectivity:\n",
        "* connectivity: calculate various connectivity\n",
        "* coherence: calculate coherence\n",
        "* cross_corr: calculate cross correlation\n",
        "* pearson: calculate pearson correlation\n",
        "* plv: calculate phase-locking value\n",
        "* relative_entropy: calculate relative entropy\n",
        "* squared_pearson: calculate squared pearson correlation\n",
        "\n",
        "Calculate features:\n",
        "* bandpower: calculate bandpower\n",
        "* line_length: calculate linelength\n",
        "\n",
        "Others:\n",
        "* load_locs: load electrode location information from .csv file\n",
        "* pre_whiten: pre-whitening of iEEG data\n",
        "* plot: plot data\n",
        "* reverse: reverse operation by one step\n",
        "* save: save session as pickle file"
      ]
    },
    {
      "cell_type": "code",
      "execution_count": null,
      "metadata": {
        "cellView": "form",
        "colab": {
          "base_uri": "https://localhost:8080/"
        },
        "id": "L3Gbht0WhUaG",
        "outputId": "13382eb2-c793-4c2f-c694-e1e67539185a"
      },
      "outputs": [
        {
          "name": "stdout",
          "output_type": "stream",
          "text": [
            "No channels changed.\n"
          ]
        }
      ],
      "source": [
        "#@title Standardize channel names\n",
        "#@markdown Convert channel names to standardized format\n",
        "#@markdown\n",
        "#@markdown Suggested syntax:\n",
        "#@markdown\n",
        "#@markdown ```data.clean_labels()```\n",
        "#@markdown\n",
        "#@markdown Example changes:\n",
        "#@markdown 'EKG01' -> 'EKG1'\n",
        "\n",
        "# show cleaned and original labels\n",
        "data.clean_labels()"
      ]
    },
    {
      "cell_type": "code",
      "execution_count": null,
      "metadata": {
        "cellView": "form",
        "colab": {
          "base_uri": "https://localhost:8080/"
        },
        "id": "AAlQbWgrhbfb",
        "outputId": "c37d3c2a-423a-4969-db14-961336559769"
      },
      "outputs": [
        {
          "name": "stdout",
          "output_type": "stream",
          "text": [
            "Non-iEEG channels includes:\n",
            "['EKG1' 'EKG2']\n"
          ]
        }
      ],
      "source": [
        "#@title Identifiy Non-iEEG channels\n",
        "#@markdown Find and return a boolean mask for Non-iEEG channels, 0 = iEEG, 1 = Non-iEEG\n",
        "#@markdown\n",
        "#@markdown Suggested syntax:\n",
        "#@markdown\n",
        "#@markdown ```data.find_nonieeg()```\n",
        "#@markdown ```data.nonieeg```\n",
        "\n",
        "data.find_nonieeg()\n",
        "print('Non-iEEG channels includes:')\n",
        "print(data.ch_names[data.nonieeg])"
      ]
    },
    {
      "cell_type": "code",
      "execution_count": null,
      "metadata": {
        "cellView": "form",
        "colab": {
          "base_uri": "https://localhost:8080/"
        },
        "id": "_iAgqbSgne2T",
        "outputId": "c34c6d86-e90c-4ba2-e8d5-75081a158fd3"
      },
      "outputs": [
        {
          "name": "stdout",
          "output_type": "stream",
          "text": [
            "Bad channels include:\n",
            "['LB12' 'RE8' 'RE9' 'RE10']\n",
            "\n",
            "\n",
            "Specific reasons for being rejected:\n",
            "noisy ['LB12' 'RE8' 'RE9' 'RE10']\n",
            "nans []\n",
            "zeros []\n",
            "var []\n",
            "higher_std []\n",
            "high_voltage []\n"
          ]
        }
      ],
      "source": [
        "#@title Identifiy bad channels\n",
        "#@markdown Find and return a boolean mask for bad channels (1 = bad channels), and details for reasons to reject.\n",
        "#@markdown\n",
        "#@markdown Suggested syntax:\n",
        "#@markdown\n",
        "#@markdown ```data.find_bad_chs()```\n",
        "#@markdown ```data.bad, data.reject_details```\n",
        "\n",
        "data.find_bad_chs()\n",
        "print('Bad channels include:')\n",
        "print(data.ch_names[data.bad])\n",
        "#@markdown Details contain potential reasons for being a bad channel and corresponding channel indices.\n",
        "print('\\n')\n",
        "print('Specific reasons for being rejected:')\n",
        "for k,v in data.reject_details.items():\n",
        "  print(k,data['ch_names'][v])"
      ]
    },
    {
      "cell_type": "code",
      "execution_count": null,
      "metadata": {
        "cellView": "form",
        "id": "Vljh1vm6ht8u"
      },
      "outputs": [],
      "source": [
        "#@title Clean data\n",
        "#@markdown\n",
        "#@markdown Reject Non-iEEG channels.\n",
        "#@markdown\n",
        "#@markdown Suggested syntax:\n",
        "#@markdown\n",
        "#@markdown ```data.reject_nonieeg()```\n",
        "#@markdown\n",
        "#@markdown Reject bad hannels containing artifacts\n",
        "#@markdown\n",
        "#@markdown Suggested syntax:\n",
        "#@markdown\n",
        "#@markdown ```data.reject_artifact()```\n",
        "\n",
        "data.reject_nonieeg()\n",
        "data.reject_artifact()\n"
      ]
    },
    {
      "cell_type": "code",
      "execution_count": null,
      "metadata": {
        "cellView": "form",
        "id": "Jlb0DEEiCn2x"
      },
      "outputs": [],
      "source": [
        "#@title Filtering\n",
        "#@markdown Filter iEEG signal with bandpass and notch filter.\n",
        "#@markdown\n",
        "#@markdown Suggested syntax:\n",
        "#@markdown\n",
        "#@markdown ```data.bandpass_filter(low_freq,high_freq)```\n",
        "#@markdown\n",
        "#@markdown ```data.notch_filter(notch_freq)```\n",
        "#@markdown\n",
        "#@markdown ```data.filter(low_freq,high_freq,notch_freq)```\n",
        "low_freq = 1 # @param {type:\"number\"}\n",
        "high_freq = 120 # @param {type:\"number\"}\n",
        "notch_freq = 60 # @param {type:\"number\"}\n",
        "\n",
        "data.bandpass_filter(low_freq,high_freq)\n",
        "data.notch_filter(notch_freq)"
      ]
    },
    {
      "cell_type": "code",
      "execution_count": null,
      "metadata": {
        "cellView": "form",
        "id": "aheRjnKtCiTC"
      },
      "outputs": [],
      "source": [
        "#@title Re-referencing\n",
        "#@markdown Re-reference data to a different montage\n",
        "#@markdown\n",
        "#@markdown Available options:\n",
        "#@markdown * Common Average Re-referencing (CAR)\n",
        "#@markdown * Bipolar Re-referencing (BR)\n",
        "#@markdown * Laplacian Re-referencing (LAR): Note, requires location of electrodes and radius threshold\n",
        "#@markdown\n",
        "#@markdown Suggested syntax:\n",
        "#@markdown * CAR: ```data.car()```\n",
        "#@markdown * BR: ```data.bipolar()```\n",
        "#@markdown * LAR: ```data.laplacian(loc_file)```\n",
        "#@markdown * ```data.reref(method)```\n",
        "\n",
        "ref = \"CAR\" # @param [\"CAR\", \"BR\", \"LAR\"]\n",
        "loc_file = 'elec_locs.csv' # @param {type:\"string\"}\n",
        "radius = 20 # @param {type:\"number\"}\n",
        "\n",
        "if ref == 'CAR':\n",
        "  data.car()\n",
        "elif ref == 'BR':\n",
        "  data.bipolar()\n",
        "elif ref == 'LAR':\n",
        "  data.laplacian(locs = loc_file,radius=radius)"
      ]
    },
    {
      "cell_type": "code",
      "execution_count": null,
      "metadata": {},
      "outputs": [],
      "source": [
        "#@title Plot data\n",
        "#@markdown Generate plot of time-series data\n",
        "#@markdown \n",
        "#@markdown Suggested syntax:\n",
        "#@markdown \n",
        "#@markdown ```fig = data.plot()```\n",
        "fig = data.plot()"
      ]
    },
    {
      "cell_type": "code",
      "execution_count": null,
      "metadata": {},
      "outputs": [],
      "source": [
        "#@title Connectivity Analysis\n",
        "#@markdown Connectivity analysis using various methods.\n",
        "#@markdown\n",
        "#@markdown Available options:\n",
        "#@markdown * Pearson Correlation:  ```data.pearson()```\n",
        "#@markdown * Squared Pearson:  ```data.squared_pearson()```\n",
        "#@markdown * Cross Correlation:  ```data.cross_corr()```\n",
        "#@markdown * Coherence:  ```data.coh()```\n",
        "#@markdown * Phase-Locking Value (PLV):  ```data.plv()```\n",
        "#@markdown * Relative Entropy:  ```data.relative_entropy()```\n",
        "#@markdown\n",
        "#@markdown Optional syntax:\n",
        "#@markdown\n",
        "#@markdown ```data.connectivity(method_list)```\n",
        "\n",
        "conn_method = \"pearson\" # @param [\"pearson\", \"squared_pearson\", \"cross_corr\", \"coh\", \"plv\", \"relative_entropy\"]\n",
        "\n",
        "data.connectivity([conn_method])"
      ]
    },
    {
      "cell_type": "code",
      "execution_count": null,
      "metadata": {},
      "outputs": [],
      "source": [
        "#@title Connectivity heatmap\n",
        "#@markdown Heatmap plot of calculated connectivity matrix.\n",
        "#@markdown\n",
        "#@markdown Suggested syntax:\n",
        "#@markdown \n",
        "#@markdown ```fig = data.conn_heatmap(method,frequency)```\n",
        "\n",
        "conn_method = \"pearson\" # @param [\"pearson\", \"squared_pearson\", \"cross_corr\", \"coh\", \"plv\", \"relative_entropy\"]\n",
        "freq_band = \"broad\" # @param ['delta','theta','alpha','beta','gamma','ripple','broad']\n",
        "data.conn_heatmap(conn_method,freq_band)"
      ]
    },
    {
      "cell_type": "code",
      "execution_count": null,
      "metadata": {},
      "outputs": [],
      "source": [
        "#@title Save data\n",
        "#@markdown Save data in pickle format\n",
        "#@markdown\n",
        "#@markdown Suggested syntax:\n",
        "#@markdown \n",
        "#@markdown ```session.save(filename)```\n",
        "#@markdown \n",
        "#@markdown ```data.save()```\n",
        "\n",
        "filename = 'session0'  #@param {type:\"string\"}\n",
        "session.save(filename)\n",
        "data.save()"
      ]
    },
    {
      "cell_type": "code",
      "execution_count": null,
      "metadata": {},
      "outputs": [],
      "source": [
        "#@title Load data\n",
        "#@markdown Load saved pickle format data\n",
        "#@markdown\n",
        "#@markdown Suggested syntax:\n",
        "#@markdown\n",
        "#@markdown ```session.load_data(dir)```\n",
        "#@markdown\n",
        "#@markdown ```session.load_data(filename)```\n",
        "session.load_data('')\n",
        "session.list_data()"
      ]
    },
    {
      "cell_type": "markdown",
      "metadata": {
        "id": "X4bZvabVKmu9"
      },
      "source": [
        "## Batch Processing\n",
        "Code for parallel processing of multiple data files"
      ]
    },
    {
      "cell_type": "code",
      "execution_count": null,
      "metadata": {
        "cellView": "form",
        "id": "Qk7LZT4xKiqR"
      },
      "outputs": [],
      "source": [
        "#@title Settings\n",
        "#@markdown Get Data via File:\n",
        "#@markdown\n",
        "#@markdown Specify the path to file containing data info (.csv/.tsv)\n",
        "#@markdown Format Filename | Start time | Stop time | Electrodes\n",
        "file_path = \"test/getData_testInput.csv\" # @param {type:\"string\"}\n",
        "\n",
        "#@markdown Filtering Settings:\n",
        "\n",
        "low_freq = 1 # @param {type:\"number\"}\n",
        "high_freq = 120 # @param {type:\"number\"}\n",
        "notch_freq = 60 # @param {type:\"number\"}\n",
        "\n",
        "#@markdown Re-ref method Setting:\n",
        "ref = \"CAR\" # @param [\"CAR\", \"BR\", \"LAR\"]\n",
        "#@markdown Laplacian Setting:\n",
        "loc_file = 'elec_locs.csv' # @param {type:\"string\"}\n",
        "radius = 20 # @param {type:\"number\"}\n",
        "\n",
        "#@markdown Connectivity Setting:\n",
        "conn_method = \"pearson\" # @param [\"pearson\", \"squared_pearson\", \"cross_corr\", \"coh\", \"plv\", \"relative_entropy\"]\n",
        "\n",
        "#@markdown Save data:\n",
        "save = True # @param {type:\"boolean\"}"
      ]
    },
    {
      "cell_type": "code",
      "execution_count": null,
      "metadata": {
        "cellView": "form",
        "id": "SGtL-cbIKy_6"
      },
      "outputs": [],
      "source": [
        "#@title Implementation\n",
        "\n",
        "param = pd.read_csv(file_path)\n",
        "param = param.iloc[:2,:3]\n",
        "param_dict = []\n",
        "for i in range(param.shape[0]):\n",
        "  param_dict.append(param.iloc[i,:].to_dict())\n",
        "session = iEEGPreprocess()\n",
        "session.login()\n",
        "for i in range(len(param_dict)):\n",
        "  param = param_dict[i]\n",
        "  data = session.download_data(param['filename'], param['start'], param['stop'])\n",
        "  data.clean_labels()\n",
        "  data.reject_nonieeg()\n",
        "  data.reject_artifact()\n",
        "  data.filter(low_freq,high_freq,notch_freq)\n",
        "  data.reref(ref,locs=loc_file,radius=radius)\n",
        "  data.connectivity([conn_method])\n",
        "  if save:\n",
        "    data.save()\n"
      ]
    }
  ],
  "metadata": {
    "colab": {
      "collapsed_sections": [
        "qK-46nFlehsT"
      ],
      "provenance": []
    },
    "kernelspec": {
      "display_name": "Python 3",
      "name": "python3"
    },
    "language_info": {
      "codemirror_mode": {
        "name": "ipython",
        "version": 3
      },
      "file_extension": ".py",
      "mimetype": "text/x-python",
      "name": "python",
      "nbconvert_exporter": "python",
      "pygments_lexer": "ipython3",
      "version": "3.10.5"
    }
  },
  "nbformat": 4,
  "nbformat_minor": 0
}
